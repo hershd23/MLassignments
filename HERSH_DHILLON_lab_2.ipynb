{
  "nbformat": 4,
  "nbformat_minor": 0,
  "metadata": {
    "colab": {
      "name": "HERSH DHILLON - lab_2.ipynb",
      "provenance": [],
      "collapsed_sections": [],
      "machine_shape": "hm"
    },
    "kernelspec": {
      "name": "python3",
      "display_name": "Python 3"
    },
    "accelerator": "TPU"
  },
  "cells": [
    {
      "cell_type": "markdown",
      "metadata": {
        "id": "Ox5bZYB3DNOC",
        "colab_type": "text"
      },
      "source": [
        "# **Lab 2**\n",
        "### Weightage 3%\n",
        "## Linear Regression\n",
        "---\n",
        "Dataset used: \n",
        "  ACS Flammability Limit Computation\n",
        "\n",
        "---\n",
        "\n",
        "\n",
        "\n",
        "Maximum Points in the Lab: 65\n",
        "\n",
        "---\n",
        "Important points to remember :\n",
        "\n",
        "\n",
        "1.  Observations for the experiments should be explained.\n",
        "2. All the code should be submitted in the form of a single Jupyter notebook itself.\n",
        "3. Points for each sub-section are mentioned in the appropriate question.\n",
        "4. Make sure to begin early as a few experiments may consume more time to run.\n",
        "5. You can use Google colab to run in jupyter notebook (https://colab.research.google.com/) How to load data in Google Colab ?(https://towardsdatascience.com/3-ways-to-load-csv-files-into-colab-7c14fcbdcb92)\n",
        "6. The lab must be submitted on Google classroom. The code as well as the accompanying observations should be made part of the python notebook.\n",
        "7. **Code Readability** is very important. Hence use self explanatory variable names and add comments to describe your approach wherever necessary.\n",
        "8. You are expected to submit your **detailed inferences** and not just an error free code.\n",
        "9. The lab is due on **Feb 21st 11.59pm**.\n",
        "10. The lab should be completed **individually**. Students are expected to follow the **honor code** of the class.\n",
        "\n",
        "\n"
      ]
    },
    {
      "cell_type": "code",
      "metadata": {
        "id": "rvZ4obBVCkdx",
        "colab_type": "code",
        "colab": {}
      },
      "source": [
        "# Import necessary libraries\n",
        "\n",
        "import sklearn\n",
        "from sklearn.linear_model import LinearRegression\n",
        "from sklearn.linear_model import Ridge\n",
        "from sklearn.linear_model import Lasso\n",
        "import matplotlib.pyplot as plt\n",
        "import numpy as np\n",
        "import pandas as pd"
      ],
      "execution_count": null,
      "outputs": []
    },
    {
      "cell_type": "markdown",
      "metadata": {
        "id": "0-AitLgoFqGc",
        "colab_type": "text"
      },
      "source": [
        "Describe the arguments and output of the linear regression function call in sklearn package.\n",
        "\n",
        "\n",
        "\n",
        "---\n",
        "**5 Points** \n",
        "\n",
        "\n",
        "---\n",
        "**ATTRIBUTES**\n",
        "\n",
        "**fit_intercept :-** (bool default True)\n",
        "Whether or not to calculate the intercept for this model. If set to False, intercept will be taken as 0.\n",
        "\n",
        "**normalize :-** (bool default False)\n",
        "If True, X will be normalized before regression by subtracting the mean and dividing by the l2-norm.\n",
        "\n",
        "**copy_X :-** (bool default True)\n",
        "If True, X will be copied; else, it may be overwritten.\n",
        "\n",
        "**n_jobs :-** (int or None)\n",
        "The number of jobs to use for the computation.\n",
        "\n",
        "LinearRegression() returns a linear regression object according to the given parameters\n",
        "\n",
        "**METHODS**\n",
        "\n",
        "**fit(self, X, y, sample_weight=None) :-** Fits the linear model with the help of the data provided.\n",
        "\n",
        "**predict(self, X) :-** Gives predictions for X provided. Returns an array of prediction values\n",
        "\n",
        "**score(self, X, y, sample_weight=None) :-** returns the R^2 score(Float type)\n"
      ]
    },
    {
      "cell_type": "markdown",
      "metadata": {
        "id": "rrzJ2WFeGFZ1",
        "colab_type": "text"
      },
      "source": [
        "We will be using the ACS flammability limit computation dataset for linear regression task. The dataset contains 105 molecular properties of few chemical compounds from which Flammability Limit is to be computed. The following block contains code to read the excel file from the given URL and preprocess the data. **Please don't make any changes to the block below.**"
      ]
    },
    {
      "cell_type": "code",
      "metadata": {
        "id": "lxOnNEVUG0Yk",
        "colab_type": "code",
        "colab": {}
      },
      "source": [
        "\n",
        "# Load the dataset onto a data frame. !! Please dont make any changes !!\n",
        "url = \"https://ndownloader.figshare.com/files/18729491\"\n",
        "data_frame = pd.read_excel(url,encoding='latin-1',skiprows=5)\n",
        "\n",
        "# Necessary attributes converted to numpy arrays\n",
        "target = data_frame.iloc[:,4].to_numpy()\n",
        "input_features = data_frame.iloc[:,6:].to_numpy()\n"
      ],
      "execution_count": null,
      "outputs": []
    },
    {
      "cell_type": "markdown",
      "metadata": {
        "id": "XSmvKwKtS0eb",
        "colab_type": "text"
      },
      "source": [
        "We have input attributes and output vector ready. Now the first step is to split the entire dataset into training and test subsets. sklearn package provides you a flexible way of doing this. All you need to do is just specify input attributes array, target array and fraction of the test set. Once the split is done, we are ready to train the model and evaluate it. \n",
        "\n",
        "- We would like you to experiment with different test set fractions and comment on how well the model is able to estimate the target value for new test instances? \n",
        "\n",
        "- Also there is another flexibility to tune the intercept term on or off. We would like you to experiment on those possibilities as well.\n",
        "\n",
        "**Note:** Don't forget to explicitly normalize the attributes.\n",
        "\n",
        "---\n",
        "\n",
        "\n",
        "**10 Points** \n",
        "\n",
        "---\n",
        "\n"
      ]
    },
    {
      "cell_type": "code",
      "metadata": {
        "id": "5ZUtbQVUldbE",
        "colab_type": "code",
        "colab": {}
      },
      "source": [
        "# normalizing the data set\n",
        "\n",
        "from sklearn.preprocessing import normalize\n",
        "\n",
        "y = target.reshape((-1,1))\n",
        "\n",
        "X_normalized_features = normalize(input_features, axis = 0)\n",
        "X_normalized_samples = normalize(input_features, axis = 1)\n",
        "y_normalized = normalize(y, axis = 0)\n",
        "\n",
        "y_max = max(y)\n",
        "y_min = min(y)"
      ],
      "execution_count": null,
      "outputs": []
    },
    {
      "cell_type": "code",
      "metadata": {
        "id": "hzyj0Ia3V166",
        "colab_type": "code",
        "colab": {
          "base_uri": "https://localhost:8080/",
          "height": 151
        },
        "outputId": "e6c9b8ad-bb1e-468b-992e-cd875dcc0ffb"
      },
      "source": [
        "# 1. Using the original input_variables and target values\n",
        "\n",
        "from sklearn.model_selection import train_test_split\n",
        "from sklearn.metrics import mean_squared_error\n",
        "\n",
        "test_size_fractions = [0.2,0.3,0.4,0.5]\n",
        "\n",
        "mse_list_original = []\n",
        "\n",
        "# Step 1: Create a linear regressor object \n",
        "# Insert your code below\n",
        "regressor_with_intercept = LinearRegression()\n",
        "\n",
        "# Step 2: Create a linear regressor object forcing bias or intercept as 0\n",
        "# Insert your code below\n",
        "regressor_no_intercept = LinearRegression(fit_intercept = False)\n",
        "\n",
        "# Experiment with 8 different model setup\n",
        "\n",
        "for fraction in test_size_fractions:\n",
        "    \n",
        "    \n",
        "    # Step 3: Split into train and test set based on the fraction\n",
        "    # Insert your code below\n",
        "    X_train, X_test, y_train, y_test = train_test_split(input_features, target, test_size = fraction, random_state = 42)\n",
        "\n",
        "    # Step 4(a): Train the Intercept Linear Regression model using held out training set\n",
        "    # Insert your code below\n",
        "    regressor_with_intercept.fit(X_train, y_train)\n",
        "\n",
        "    # Step 4(b): Predict the target values using the trained model for test set instances\n",
        "    # Insert your code below\n",
        "    y_test_predictions_1 = regressor_with_intercept.predict(X_test)\n",
        "\n",
        "    # Step 4(c): Print the mean squared error of the model on test data set. Store this value to mse list to find the best model setting.\n",
        "    # Insert your code below\n",
        "    final_loss_1 = mean_squared_error(y_test, y_test_predictions_1)\n",
        "    mse_list_original.append(final_loss_1)\n",
        "    print('With intercept, fraction ' + str(fraction) + ' MSE = ' + str(final_loss_1))\n",
        "\n",
        "    # Step 5(a): Train the Non Intercept Linear Regression model using held out training set\n",
        "    # Insert your code below\n",
        "    regressor_no_intercept.fit(X_train, y_train)\n",
        "\n",
        "    # Step 5(b): Predict the target values using the trained non intercept for test set instances\n",
        "    # Insert your code below\n",
        "    y_test_predictions_2 = regressor_no_intercept.predict(X_test)\n",
        "\n",
        "    # Step 5(c): Print the mean squared error of the non intercept model on test data set. Store this value to mse list to find the best model setting.\n",
        "    # Insert your code below\n",
        "    final_loss_2 = mean_squared_error(y_test, y_test_predictions_2)\n",
        "    mse_list_original.append(final_loss_2)\n",
        "    print('Without intercept, fraction ' + str(fraction) + ' MSE = ' + str(final_loss_2))\n"
      ],
      "execution_count": null,
      "outputs": [
        {
          "output_type": "stream",
          "text": [
            "With intercept, fraction 0.2 MSE = 0.0858292140362414\n",
            "Without intercept, fraction 0.2 MSE = 0.18274993369871623\n",
            "With intercept, fraction 0.3 MSE = 0.10516608109969937\n",
            "Without intercept, fraction 0.3 MSE = 0.22601866092166925\n",
            "With intercept, fraction 0.4 MSE = 0.15767198520486844\n",
            "Without intercept, fraction 0.4 MSE = 0.38801607113411896\n",
            "With intercept, fraction 0.5 MSE = 0.12733412702050131\n",
            "Without intercept, fraction 0.5 MSE = 0.3176483326334792\n"
          ],
          "name": "stdout"
        }
      ]
    },
    {
      "cell_type": "code",
      "metadata": {
        "id": "_KaulLF8LPuK",
        "colab_type": "code",
        "colab": {
          "base_uri": "https://localhost:8080/",
          "height": 151
        },
        "outputId": "138ec4a8-e993-4e5c-c39c-86c2e2406440"
      },
      "source": [
        "# 2. Using the normalized input on features and output values\n",
        "\n",
        "test_size_fractions = [0.2,0.3,0.4,0.5]\n",
        "\n",
        "mse_list_normal_features = []\n",
        "\n",
        "# Step 1: Create a linear regressor object \n",
        "# Insert your code below\n",
        "regressor_with_intercept = LinearRegression()\n",
        "\n",
        "# Step 2: Create a linear regressor object forcing bias or intercept as 0\n",
        "# Insert your code below\n",
        "regressor_no_intercept = LinearRegression(fit_intercept = False)\n",
        "\n",
        "# Experiment with 8 different model setup\n",
        "\n",
        "for fraction in test_size_fractions:\n",
        "    \n",
        "    \n",
        "    # Step 3: Split into train and test set based on the fraction\n",
        "    # Insert your code below\n",
        "    X_train, X_test, y_train, y_test = train_test_split(X_normalized_features, target, test_size = fraction, random_state = 42)\n",
        "\n",
        "\n",
        "    # Step 4(a): Train the Intercept Linear Regression model using held out training set\n",
        "    # Insert your code below\n",
        "    regressor_with_intercept.fit(X_train, y_train)\n",
        "\n",
        "    # Step 4(b): Predict the target values using the trained model for test set instances\n",
        "    # Insert your code below\n",
        "    y_test_predictions_1 = regressor_with_intercept.predict(X_test)\n",
        "\n",
        "    # Step 4(c): Print the mean squared error of the model on test data set. Store this value to mse list to find the best model setting.\n",
        "    # Insert your code below\n",
        "    final_loss_1 = mean_squared_error(y_test, y_test_predictions_1)\n",
        "    mse_list_normal_features.append(final_loss_1)\n",
        "    print('With intercept, fraction ' + str(fraction) + ' MSE = ' + str(final_loss_1))\n",
        "\n",
        "    # Step 5(a): Train the Non Intercept Linear Regression model using held out training set\n",
        "    # Insert your code below\n",
        "    regressor_no_intercept.fit(X_train, y_train)\n",
        "\n",
        "    # Step 5(b): Predict the target values using the trained non intercept for test set instances\n",
        "    # Insert your code below\n",
        "    y_test_predictions_2 = regressor_no_intercept.predict(X_test)\n",
        "\n",
        "    # Step 5(c): Print the mean squared error of the non intercept model on test data set. Store this value to mse list to find the best model setting.\n",
        "    # Insert your code below\n",
        "    final_loss_2 = mean_squared_error(y_test, y_test_predictions_2)\n",
        "    mse_list_normal_features.append(final_loss_2)\n",
        "    print('Without intercept, fraction ' + str(fraction) + ' MSE = ' + str(final_loss_2))\n"
      ],
      "execution_count": null,
      "outputs": [
        {
          "output_type": "stream",
          "text": [
            "With intercept, fraction 0.2 MSE = 1.6086939175280427e+24\n",
            "Without intercept, fraction 0.2 MSE = 6.854546440543806e+22\n",
            "With intercept, fraction 0.3 MSE = 9.489015270014045e+21\n",
            "Without intercept, fraction 0.3 MSE = 8.727066358649256e+24\n",
            "With intercept, fraction 0.4 MSE = 3.2702226671685005e+24\n",
            "Without intercept, fraction 0.4 MSE = 6.527728997020021e+24\n",
            "With intercept, fraction 0.5 MSE = 6.098971594530579e+24\n",
            "Without intercept, fraction 0.5 MSE = 9.910156024630938e+21\n"
          ],
          "name": "stdout"
        }
      ]
    },
    {
      "cell_type": "code",
      "metadata": {
        "id": "DriMG_ljLP9w",
        "colab_type": "code",
        "colab": {
          "base_uri": "https://localhost:8080/",
          "height": 151
        },
        "outputId": "953106a6-2ed1-495b-b572-e490c6593602"
      },
      "source": [
        "# 3. Using the Normalized features on samples and target values\n",
        "\n",
        "test_size_fractions = [0.2,0.3,0.4,0.5]\n",
        "\n",
        "mse_list_normal_samples = []\n",
        "\n",
        "# Step 1: Create a linear regressor object \n",
        "# Insert your code below\n",
        "regressor_with_intercept = LinearRegression()\n",
        "\n",
        "# Step 2: Create a linear regressor object forcing bias or intercept as 0\n",
        "# Insert your code below\n",
        "regressor_no_intercept = LinearRegression(fit_intercept = False)\n",
        "\n",
        "# Experiment with 8 different model setup\n",
        "\n",
        "for fraction in test_size_fractions:\n",
        "    \n",
        "    \n",
        "    # Step 3: Split into train and test set based on the fraction\n",
        "    # Insert your code below\n",
        "    X_train, X_test, y_train, y_test = train_test_split(X_normalized_samples, target, test_size = fraction, random_state = 42)\n",
        "\n",
        "\n",
        "    # Step 4(a): Train the Intercept Linear Regression model using held out training set\n",
        "    # Insert your code below\n",
        "    regressor_with_intercept.fit(X_train, y_train)\n",
        "\n",
        "    # Step 4(b): Predict the target values using the trained model for test set instances\n",
        "    # Insert your code below\n",
        "    y_test_predictions_1 = regressor_with_intercept.predict(X_test)\n",
        "\n",
        "    # Step 4(c): Print the mean squared error of the model on test data set. Store this value to mse list to find the best model setting.\n",
        "    # Insert your code below\n",
        "    final_loss_1 = mean_squared_error(y_test, y_test_predictions_1)\n",
        "    mse_list_normal_samples.append(final_loss_1)\n",
        "    print('With intercept, fraction ' + str(fraction) + ' MSE = ' + str(final_loss_1))\n",
        "\n",
        "    # Step 5(a): Train the Non Intercept Linear Regression model using held out training set\n",
        "    # Insert your code below\n",
        "    regressor_no_intercept.fit(X_train, y_train)\n",
        "\n",
        "    # Step 5(b): Predict the target values using the trained non intercept for test set instances\n",
        "    # Insert your code below\n",
        "    y_test_predictions_2 = regressor_no_intercept.predict(X_test)\n",
        "\n",
        "    # Step 5(c): Print the mean squared error of the non intercept model on test data set. Store this value to mse list to find the best model setting.\n",
        "    # Insert your code below\n",
        "    final_loss_2 = mean_squared_error(y_test, y_test_predictions_2)\n",
        "    mse_list_normal_samples.append(final_loss_2)\n",
        "    print('Without intercept, fraction ' + str(fraction) + ' MSE = ' + str(final_loss_2))\n"
      ],
      "execution_count": null,
      "outputs": [
        {
          "output_type": "stream",
          "text": [
            "With intercept, fraction 0.2 MSE = 3.964918025922237e+20\n",
            "Without intercept, fraction 0.2 MSE = 0.07303269019177201\n",
            "With intercept, fraction 0.3 MSE = 4.498524370896273e+20\n",
            "Without intercept, fraction 0.3 MSE = 0.07677604148719748\n",
            "With intercept, fraction 0.4 MSE = 0.09571231140037624\n",
            "Without intercept, fraction 0.4 MSE = 0.11009041444307918\n",
            "With intercept, fraction 0.5 MSE = 6.724576667732859e+19\n",
            "Without intercept, fraction 0.5 MSE = 0.16195835624983348\n"
          ],
          "name": "stdout"
        }
      ]
    },
    {
      "cell_type": "markdown",
      "metadata": {
        "id": "l8aRGM_afDmY",
        "colab_type": "text"
      },
      "source": [
        "In the previous block you have experimented with different settings of the Linear Regression model. You have test set mean squared error stored. Figure out which setting gave the least mean squared error. \n",
        "\n",
        "---\n",
        "\n",
        "**5 Points**\n",
        "\n",
        "---\n",
        "\n",
        "\n"
      ]
    },
    {
      "cell_type": "code",
      "metadata": {
        "id": "cyFU-GFUhZkB",
        "colab_type": "code",
        "colab": {
          "base_uri": "https://localhost:8080/",
          "height": 67
        },
        "outputId": "13f465ce-3e83-40cf-927e-fdc1b31d6a4e"
      },
      "source": [
        "# Insert your code to identify the best fraction and intercept requirement. Also, print the best setting chosen.\n",
        "\n",
        "# 1. Checking the best normalization setting\n",
        "\n",
        "print('Mean MSE original values ', np.mean(mse_list_original))\n",
        "print('Mean MSE normalized feature values ', np.mean(mse_list_normal_features))\n",
        "print('Mean MSE normalized samples values ', np.mean(mse_list_normal_samples))"
      ],
      "execution_count": null,
      "outputs": [
        {
          "output_type": "stream",
          "text": [
            "Mean MSE original values  0.19880430071866179\n",
            "Mean MSE normalized feature values  3.29007852132456e+24\n",
            "Mean MSE normalized samples values  1.1419875079489744e+20\n"
          ],
          "name": "stdout"
        }
      ]
    },
    {
      "cell_type": "code",
      "metadata": {
        "id": "jIrq3ve7n36x",
        "colab_type": "code",
        "colab": {
          "base_uri": "https://localhost:8080/",
          "height": 67
        },
        "outputId": "0150c66e-f1cc-4a6b-c470-38209b702c9c"
      },
      "source": [
        "# 2. Best fraction and intercept requirement\n",
        "\n",
        "mse_min = min(mse_list_original)\n",
        "\n",
        "ind = mse_list_original.index(mse_min)\n",
        "print(ind)\n",
        "final_intercept = False\n",
        "\n",
        "final_fraction = 0.2\n",
        "\n",
        "if ind%2 == 0:\n",
        "    final_intercept = True\n",
        "\n",
        "if ind/2 == 1:\n",
        "    final_fraction = 0.3\n",
        "elif ind/2 == 2:\n",
        "    final_fraction = 0.4\n",
        "elif ind/2 == 3:\n",
        "    final_fraction = 0.5\n",
        "\n",
        "print(final_intercept)\n",
        "print(final_fraction)"
      ],
      "execution_count": null,
      "outputs": [
        {
          "output_type": "stream",
          "text": [
            "0\n",
            "True\n",
            "0.2\n"
          ],
          "name": "stdout"
        }
      ]
    },
    {
      "cell_type": "markdown",
      "metadata": {
        "id": "-Rp9zsZe9PQu",
        "colab_type": "text"
      },
      "source": [
        "**Reason for the best model**\n",
        "\n",
        "The best model was found to be the one with original values with 0.2 train_test_split with intercept calculation. The fraction value and the intercept status were expected as with more training data we can model the same dataset more accurately, leading to less errors. Also since we have not standardized and the data is not centered, it intercept calculation seems a better option.\n",
        "\n",
        "The unexpected part is that the original values give the best output. It seems as if the normalized data do not capture the relationship in the data that is present in the original data. Normalization across a sample performs better than across a feature. The feature normalized values might mot be able to capture the relationship in one input vector \n",
        "\n",
        "The fit with the original values has been taken as the best although one setting of the normalization across samples gives a lower MSE, there still exist settings in which the error exceeds 10^20"
      ]
    },
    {
      "cell_type": "markdown",
      "metadata": {
        "id": "mQVehqr9hl6x",
        "colab_type": "text"
      },
      "source": [
        "Now that you have figured out the best model setting, use that setting to train the model to predict test instances.\n",
        "\n",
        "\n",
        "---\n",
        "\n",
        "**3 Points**\n",
        "\n",
        "\n",
        "---\n",
        "\n"
      ]
    },
    {
      "cell_type": "code",
      "metadata": {
        "id": "JJEf7Rg8h7oS",
        "colab_type": "code",
        "colab": {
          "base_uri": "https://localhost:8080/",
          "height": 34
        },
        "outputId": "00bc8df8-f2f5-4f13-9fe5-78cb29ba3586"
      },
      "source": [
        "# Step 1: Split the entire dataset into train and test set based on the best fraction\n",
        "# Insert your code below\n",
        "X_train, X_test, y_train, y_test = train_test_split(input_features, target, test_size = final_fraction, random_state = 42)\n",
        "\n",
        "# Step 2: Create a linear regressor object with intercept turned on or off as per best model setting\n",
        "# Insert your code below\n",
        "regressor_with_intercept = LinearRegression(fit_intercept=final_intercept)\n",
        "\n",
        "# Step 3(a): Train the Linear Regression model using training set\n",
        "# Insert your code below\n",
        "regressor_with_intercept.fit(X_train, y_train)\n",
        "\n",
        "# Step 3(b): Predict the target values using the trained model for test set instances\n",
        "# Insert your code below\n",
        "y_test_predictions = regressor_with_intercept.predict(X_test)\n",
        "\n",
        "# Step 3(c): Print the mean squared error of the model on test set. \n",
        "# Insert your code below\n",
        "final_loss = mean_squared_error(y_test, y_test_predictions)\n",
        "print(final_loss)"
      ],
      "execution_count": null,
      "outputs": [
        {
          "output_type": "stream",
          "text": [
            "0.0858292140362414\n"
          ],
          "name": "stdout"
        }
      ]
    },
    {
      "cell_type": "markdown",
      "metadata": {
        "id": "ZHT58sjij0f4",
        "colab_type": "text"
      },
      "source": [
        "Now check the goodness of the model with repsect to prediction on test instances. The aim is to predict the target values for test instances using the trained model. These values would be plotted against the true values of the test instances. A good model would yield a plot that looks *close to a line of slope 45 degree*. **Comment** on the goodness of the learned model using this test.\n",
        "\n",
        "---\n",
        "\n",
        "**5 points** \n",
        "\n",
        "---\n",
        "\n",
        "\n",
        "\n",
        "\n",
        "\n"
      ]
    },
    {
      "cell_type": "code",
      "metadata": {
        "id": "CuDziN7WlJHy",
        "colab_type": "code",
        "colab": {
          "base_uri": "https://localhost:8080/",
          "height": 312
        },
        "outputId": "aa23c9b0-7038-440a-a434-bfca417a64cd"
      },
      "source": [
        "# Insert your code to plot true vs predicted test values\n",
        "line = [-2,-1, 1, 2, 3]  # for plotting the 45 degree line\n",
        "\n",
        "plt.scatter(y_test, y_test_predictions, s = np.pi*1 )\n",
        "plt.xlim(-1, 3)\n",
        "plt.ylim(-1, 3)\n",
        "plt.gca().set_aspect('equal', adjustable='box')\n",
        "plt.plot(line, line, color = 'red')\n",
        "plt.title('True v tested predictions')\n",
        "plt.xlabel('True Label')\n",
        "plt.ylabel('Prediction')\n",
        "plt.show\n"
      ],
      "execution_count": null,
      "outputs": [
        {
          "output_type": "execute_result",
          "data": {
            "text/plain": [
              "<function matplotlib.pyplot.show>"
            ]
          },
          "metadata": {
            "tags": []
          },
          "execution_count": 11
        },
        {
          "output_type": "display_data",
          "data": {
            "image/png": "[encoded data removed]",
            "text/plain": [
              "<Figure size 432x288 with 1 Axes>"
            ]
          },
          "metadata": {
            "tags": []
          }
        }
      ]
    },
    {
      "cell_type": "markdown",
      "metadata": {
        "id": "HEzwhuUH9k5t",
        "colab_type": "text"
      },
      "source": [
        "**COMMENT ON THE GOODNESS**\n",
        "\n",
        "Although the data seems curved than a 45 degree line, however the points do seem close to that line. Apart from a few outliers, the true and predicted labels are pretty close to each other"
      ]
    },
    {
      "cell_type": "markdown",
      "metadata": {
        "id": "-6jQmj8amZTr",
        "colab_type": "text"
      },
      "source": [
        "You have implemented simple linear regression. You may apply regularization techniques that constrain the coefficients. We will be seeing 2 types of regularized regression techniques:\n",
        "\n",
        "\n",
        "1.   Ridge Regression\n",
        "2.   Lasso Regression\n",
        "\n"
      ]
    },
    {
      "cell_type": "markdown",
      "metadata": {
        "colab_type": "text",
        "id": "sxHV6iP4Mlwg"
      },
      "source": [
        "# Ridge Regression\n",
        "\n",
        "---\n",
        "\n",
        "Describe the arguments and output of the Ridge regression function call in sklearn package.\n",
        "\n",
        "\n",
        "\n",
        "---\n",
        "**5 Points** \n",
        "\n",
        "\n",
        "---\n",
        "\n",
        "**PARAMETERS**\n",
        "\n",
        "**alpha(float, default=1.0) :-**\n",
        "Regularization strength; must be a positive float. Regularization improves the conditioning of the problem and reduces the variance of the estimates.\n",
        "\n",
        "**fit_intercept(bool, default=True):-**\n",
        "Whether to calculate the intercept for this model. If set to false, no intercept willbe used in calculations.\n",
        "\n",
        "**normalize (bool, default=False):-**\n",
        "If True, the regressors X will be normalized before regression by subtracting the mean and dividing by the l2-norm.\n",
        "\n",
        "**copy_X (bool, default=True) :-**\n",
        "If True, X will be copied; else, it may be overwritten.\n",
        "\n",
        "**max_iter (int, default=None) :-**\n",
        "Maximum number of iterations for conjugate gradient solver.\n",
        "\n",
        "**tol (float, default=1e-3) :-**\n",
        "Tolerance for the precision of the solution.\n",
        "\n",
        "**solver (default='auto') :-**\n",
        "Solver to use in the computational routines.\n",
        "\n",
        "**random_state (int, RandomState instance, default=None) :-**\n",
        "The seed of the pseudo random number generator to use when shuffling the data.\n",
        "\n",
        "Returns a ridge regressor object.\n",
        "\n",
        "**METHODS**\n",
        "\n",
        "**fit(self, X, y, sample_weight=None) :-** Fits the linear model with the help of the data provided.\n",
        "\n",
        "**predict(self, X) :-** Gives predictions for X provided. Returns an array of prediction values\n",
        "\n",
        "**score(self, X, y, sample_weight=None) :-** returns the R^2 score(Float type)\n"
      ]
    },
    {
      "cell_type": "markdown",
      "metadata": {
        "id": "9Wyr-kOLm-AT",
        "colab_type": "text"
      },
      "source": [
        "\n",
        "\n",
        "\n",
        "In ridge regression, L-2 regularization is applied to the coefficients. You have a hyperparameter alpha which you can vary to control the extent of constraining the coefficients. We would like you to experiment with different values of alpha and comment on the model performance. You may use the best setting of Linear Regression to Ridge Regression also. **Comment** on the effect of the alpha value on the mean squared error.\n",
        "\n",
        "\n",
        "---\n",
        "\n",
        "**9 Points**\n",
        "\n",
        "\n",
        "---\n",
        "\n"
      ]
    },
    {
      "cell_type": "code",
      "metadata": {
        "id": "-2MHw9z8oKVE",
        "colab_type": "code",
        "colab": {
          "base_uri": "https://localhost:8080/",
          "height": 480
        },
        "outputId": "4afe004d-96a7-445d-9474-917c9821960a"
      },
      "source": [
        "from sklearn.linear_model import Ridge\n",
        "\n",
        "alpha_values = [0.01,0.05,0.1,0.25,0.5,0.75,1,1.25,1.5,1.75,2]\n",
        "error_list = []\n",
        "\n",
        "# Step 1: Split into train and test set based on the best fraction\n",
        "# Insert your code below\n",
        "X_train, X_test, y_train, y_test = train_test_split(input_features, target, test_size = final_fraction, random_state = 42)\n",
        "\n",
        "for alpha_ in alpha_values:\n",
        "\n",
        "\n",
        "    # Step 2: Create a Ridge regressor object with desired alpha value\n",
        "    # Insert your code below\n",
        "    ridge_regressor = Ridge(alpha = alpha_, fit_intercept=final_intercept)\n",
        "\n",
        "    # Step 3(a): Train the Ridge Regression model using training set\n",
        "    # Insert your code below\n",
        "    ridge_regressor.fit(X_train, y_train)\n",
        "\n",
        "    # Step 3(b): Predict the target values using the trained Ridge model for test set instances\n",
        "    # Insert your code below\n",
        "    y_test_predictions = ridge_regressor.predict(X_test)\n",
        "\n",
        "    # Step 3(c): Print the mean squared error of the model on test set. Add it to an error list to plot later.\n",
        "    # Insert your code below\n",
        "    final_loss_ridge = mean_squared_error(y_test, y_test_predictions)\n",
        "    print(final_loss_ridge)\n",
        "    error_list.append(final_loss_ridge)\n",
        "\n",
        "# Step 4: Plot a graph of different alpha values of ridge regression versus mean squared error\n",
        "\n",
        "plt.plot(alpha_values, error_list)\n",
        "plt.title('Ridge, loss change with alpha values')\n",
        "plt.xlabel('Alpha Values')\n",
        "plt.ylabel('Error Values')\n",
        "plt.show()\n"
      ],
      "execution_count": null,
      "outputs": [
        {
          "output_type": "stream",
          "text": [
            "0.08582595578504242\n",
            "0.08583997985292101\n",
            "0.08577324026507387\n",
            "0.08547643328686323\n",
            "0.08507780120002198\n",
            "0.08480642368078638\n",
            "0.08461906728653223\n",
            "0.08448827044085874\n",
            "0.08439713847193056\n",
            "0.08433476798970439\n",
            "0.08429379317906875\n"
          ],
          "name": "stdout"
        },
        {
          "output_type": "display_data",
          "data": {
            "image/png": "[encoded data removed]",
            "text/plain": [
              "<Figure size 432x288 with 1 Axes>"
            ]
          },
          "metadata": {
            "tags": []
          }
        }
      ]
    },
    {
      "cell_type": "markdown",
      "metadata": {
        "id": "ImyzC-vID8ge",
        "colab_type": "text"
      },
      "source": [
        "**OBSERVATIONS** :- \n",
        "With an increasing value of alpha the error value drops. However the difference in the drop becomes smaller each time. This is expected as Ridge regression reduce the extent of overfitting by regularization. However, there can be a value for which the loss starts increasing again, as a result of penalizing the weights too much."
      ]
    },
    {
      "cell_type": "markdown",
      "metadata": {
        "id": "qNlHlQBPNXLM",
        "colab_type": "text"
      },
      "source": [
        "# Lasso Regression\n",
        "\n",
        "---\n",
        "\n",
        "Describe the arguments and output of the Lasso regression function call in sklearn package.\n",
        "\n",
        "\n",
        "\n",
        "---\n",
        "**5 Points** \n",
        "\n",
        "\n",
        "---\n",
        "\n",
        "**PARAMETERS**\n",
        "\n",
        "**alpha(float, default=1.0) :-**\n",
        "Regularization strength; must be a positive float. Regularization improves the conditioning of the problem and reduces the variance of the estimates.\n",
        "\n",
        "**fit_intercept(bool, default=True):-**\n",
        "Whether to calculate the intercept for this model. If set to false, no intercept willbe used in calculations.\n",
        "\n",
        "**precompute (True False default=False) :-**\n",
        "Whether to use a precomputed Gram matrix to speed up calculations.The Gram matrix can also be passed as argument.\n",
        "\n",
        "**normalize (bool, default=False):-**\n",
        "If True, the regressors X will be normalized before regression by subtracting the mean and dividing by the l2-norm.\n",
        "\n",
        "**warm_start (bool) :-**\n",
        "When set to True, reuse the solution of the previous call to fit as initialization.\n",
        "\n",
        "**positive (bool, optional) :-**\n",
        "When set to True, forces the coefficients to be positive.\n",
        "\n",
        "**copy_X (bool, default=True) :-**\n",
        "If True, X will be copied; else, it may be overwritten.\n",
        "\n",
        "**max_iter (int, default=None) :-**\n",
        "Maximum number of iterations for conjugate gradient solver.\n",
        "\n",
        "**tol (float, default=1e-3) :-**\n",
        "Tolerance for the precision of the solution.\n",
        "\n",
        "**solver (default='auto') :-**\n",
        "Solver to use in the computational routines.\n",
        "\n",
        "**random_state (int, RandomState instance, default=None) :-**\n",
        "The seed of the pseudo random number generator to use when shuffling the data.\n",
        "\n",
        "**selection (str, default ‘cyclic’) :-**\n",
        "If set to ‘random’, a random coefficient is updated every iteration rather than looping over features sequentially by default.\n",
        "\n",
        "Returns a lasso regressor object.\n",
        "\n",
        "**METHODS**\n",
        "\n",
        "**fit(self, X, y, sample_weight=None) :-** Fits the linear model with the help of the data provided.\n",
        "\n",
        "**predict(self, X) :-** Gives predictions for X provided. Returns an array of prediction values\n",
        "\n",
        "**score(self, X, y, sample_weight=None) :-** returns the R^2 score(Float type)\n",
        "\n",
        "\n"
      ]
    },
    {
      "cell_type": "markdown",
      "metadata": {
        "id": "GLj4DffxpM4K",
        "colab_type": "text"
      },
      "source": [
        "In Lasso regression, L-1 regularization is applied to the coefficients. You have a hyperparameter alpha which you can vary to control the extent of constraining the coefficients. We would like you to experiment with different values of alpha and **comment** on the model performance. You may use the best setting of Linear Regression to Lasso Regression also.\n",
        "\n",
        "---\n",
        "\n",
        "**9 Points**\n",
        "\n",
        "---\n",
        "\n"
      ]
    },
    {
      "cell_type": "code",
      "metadata": {
        "id": "FyEtXEX0jZRw",
        "colab_type": "code",
        "colab": {
          "base_uri": "https://localhost:8080/",
          "height": 480
        },
        "outputId": "f1a49bd4-25fc-43a8-d055-01889989efce"
      },
      "source": [
        "from sklearn.linear_model import Lasso\n",
        "\n",
        "alpha_values = [0.01,0.05,0.1,0.25,0.5,0.75,1,1.25,1.5,1.75,2]\n",
        "error_list = []\n",
        "\n",
        "# Step 1: Split into train and test set based on the best fraction\n",
        "# Insert your code below\n",
        "X_train, X_test, y_train, y_test = train_test_split(input_features, target, test_size = final_fraction, random_state = 42)\n",
        "\n",
        "for alpha_ in alpha_values:\n",
        "\n",
        "    # Step 2: Create a LASSO regressor object with desired alpha value\n",
        "    # Insert your code below\n",
        "    lasso_regressor = Lasso(alpha=alpha_, fit_intercept=final_intercept)\n",
        "   \n",
        "\n",
        "    # Step 3(a): Train the LASSO Regression model using training set\n",
        "    # Insert your code below\n",
        "    lasso_regressor.fit(X_train, y_train)\n",
        "\n",
        "    # Step 3(b): Predict the target values using the trained LASSO model for test set instances\n",
        "    # Insert your code below\n",
        "    y_test_predictions = lasso_regressor.predict(X_test)\n",
        "\n",
        "    # Step 3(c): Print the mean squared error of the model on test set. Add it to an error list to plot later.\n",
        "    # Insert your code below\n",
        "    final_loss_lasso = mean_squared_error(y_test, y_test_predictions)\n",
        "    print(final_loss_lasso)\n",
        "    error_list.append(final_loss_lasso)\n",
        "\n",
        "\n",
        "# Step 4: Plot a graph of different alpha values of lasso regression versus mean squared error\n",
        "\n",
        "plt.plot(alpha_values, error_list)\n",
        "plt.title('Lasso, loss change with alpha values')\n",
        "plt.xlabel('Alpha Values')\n",
        "plt.ylabel('Error Values')\n",
        "plt.show()\n"
      ],
      "execution_count": null,
      "outputs": [
        {
          "output_type": "stream",
          "text": [
            "0.08774810322238126\n",
            "0.08791898465277806\n",
            "0.0933842970936467\n",
            "0.10605282144112084\n",
            "0.13291101882280332\n",
            "0.1530903854529497\n",
            "0.1625139365143653\n",
            "0.16567648984513966\n",
            "0.1702554203972738\n",
            "0.17625072817076765\n",
            "0.18366241316562115\n"
          ],
          "name": "stdout"
        },
        {
          "output_type": "display_data",
          "data": {
            "image/png": "[encoded data removed]",
            "text/plain": [
              "<Figure size 432x288 with 1 Axes>"
            ]
          },
          "metadata": {
            "tags": []
          }
        }
      ]
    },
    {
      "cell_type": "markdown",
      "metadata": {
        "id": "R0ia3rYjGwdJ",
        "colab_type": "text"
      },
      "source": [
        "**OBSERVATIONS:-** We see an increase in the mse loss as we increase alpha for lasso regression. It might be due to the fact that LASSO also acts as a feature selector, tuning some weights to zero when there actually could have been a relationship/correlation between that feature and the output value. Hence we see that in this case Ridge performs better as it is able to capture those correlations which Lasso can't"
      ]
    },
    {
      "cell_type": "markdown",
      "metadata": {
        "id": "GaY8yDgjFvwb",
        "colab_type": "text"
      },
      "source": [
        "Now since you have tried LASSO with different alpha values, you may try different number of maximum iterations associated with LASSO and **comment** on its effect on the mean squared error.\n",
        "\n",
        "\n",
        "---\n",
        "\n",
        "**9 Points**\n",
        "\n",
        "---\n",
        "\n"
      ]
    },
    {
      "cell_type": "code",
      "metadata": {
        "id": "51uy4oEqFuBK",
        "colab_type": "code",
        "colab": {
          "base_uri": "https://localhost:8080/",
          "height": 1000
        },
        "outputId": "5ed88694-5de1-40b2-fb2e-65add7572cf3"
      },
      "source": [
        "error_list = []\n",
        "alpha_ = 0.01\n",
        "iter_list = []\n",
        "\n",
        "# Step 1: Split into train and test set based on the best fraction\n",
        "# Insert your code below\n",
        "X_train, X_test, y_train, y_test = train_test_split(input_features, target, test_size = final_fraction, random_state = 42)\n",
        "\n",
        "for m_iterations in range(1,200,2):\n",
        "    \n",
        "\n",
        "    # Step 2: Create a LASSO regressor object with desired number of iterations\n",
        "    # Insert your code below\n",
        "    lasso_regressor = Lasso(alpha=alpha_, fit_intercept=final_intercept, max_iter=m_iterations)\n",
        "\n",
        "    # Step 3(a): Train the LASSO Regression model using training set\n",
        "    # Insert your code below\n",
        "    lasso_regressor.fit(X_train, y_train)\n",
        "\n",
        "    # Step 3(b): Predict the target values using the trained LASSO model for test set instances\n",
        "    # Insert your code below\n",
        "    y_test_predictions = lasso_regressor.predict(X_test)\n",
        "\n",
        "    # Step 3(c): Print the mean squared error of the model on test set. Add it to an error list to plot later.\n",
        "    # Insert your code below\n",
        "    final_loss_lasso = mean_squared_error(y_test, y_test_predictions)\n",
        "    error_list.append(final_loss_lasso)\n",
        "    iter_list.append(m_iterations)\n",
        "\n",
        "\n",
        "#import warnings\n",
        "#warnings.filterwarnings('ignore')\n",
        "\n",
        "# Step 4: Plot a graph of different iteration values of lasso regression versus mean squared error\n",
        "\n",
        "plt.plot(iter_list, error_list)\n",
        "plt.title('Lasso, loss change with iterations')\n",
        "plt.xlabel('Iteration')\n",
        "plt.ylabel('Error Values')\n",
        "plt.show()\n"
      ],
      "execution_count": null,
      "outputs": [
        {
          "output_type": "stream",
          "text": [
            "/usr/local/lib/python3.6/dist-packages/sklearn/linear_model/_coordinate_descent.py:476: ConvergenceWarning: Objective did not converge. You might want to increase the number of iterations. Duality gap: 38.16973021236882, tolerance: 0.0201166147402188\n",
            "  positive)\n",
            "/usr/local/lib/python3.6/dist-packages/sklearn/linear_model/_coordinate_descent.py:476: ConvergenceWarning: Objective did not converge. You might want to increase the number of iterations. Duality gap: 29.06977290044913, tolerance: 0.0201166147402188\n",
            "  positive)\n",
            "/usr/local/lib/python3.6/dist-packages/sklearn/linear_model/_coordinate_descent.py:476: ConvergenceWarning: Objective did not converge. You might want to increase the number of iterations. Duality gap: 27.90761531099376, tolerance: 0.0201166147402188\n",
            "  positive)\n",
            "/usr/local/lib/python3.6/dist-packages/sklearn/linear_model/_coordinate_descent.py:476: ConvergenceWarning: Objective did not converge. You might want to increase the number of iterations. Duality gap: 26.773072749567884, tolerance: 0.0201166147402188\n",
            "  positive)\n",
            "/usr/local/lib/python3.6/dist-packages/sklearn/linear_model/_coordinate_descent.py:476: ConvergenceWarning: Objective did not converge. You might want to increase the number of iterations. Duality gap: 25.838971964959654, tolerance: 0.0201166147402188\n",
            "  positive)\n",
            "/usr/local/lib/python3.6/dist-packages/sklearn/linear_model/_coordinate_descent.py:476: ConvergenceWarning: Objective did not converge. You might want to increase the number of iterations. Duality gap: 11.41712339677531, tolerance: 0.0201166147402188\n",
            "  positive)\n",
            "/usr/local/lib/python3.6/dist-packages/sklearn/linear_model/_coordinate_descent.py:476: ConvergenceWarning: Objective did not converge. You might want to increase the number of iterations. Duality gap: 11.347140253520372, tolerance: 0.0201166147402188\n",
            "  positive)\n",
            "/usr/local/lib/python3.6/dist-packages/sklearn/linear_model/_coordinate_descent.py:476: ConvergenceWarning: Objective did not converge. You might want to increase the number of iterations. Duality gap: 10.840865188717352, tolerance: 0.0201166147402188\n",
            "  positive)\n",
            "/usr/local/lib/python3.6/dist-packages/sklearn/linear_model/_coordinate_descent.py:476: ConvergenceWarning: Objective did not converge. You might want to increase the number of iterations. Duality gap: 11.16323682013115, tolerance: 0.0201166147402188\n",
            "  positive)\n",
            "/usr/local/lib/python3.6/dist-packages/sklearn/linear_model/_coordinate_descent.py:476: ConvergenceWarning: Objective did not converge. You might want to increase the number of iterations. Duality gap: 10.80914644017038, tolerance: 0.0201166147402188\n",
            "  positive)\n",
            "/usr/local/lib/python3.6/dist-packages/sklearn/linear_model/_coordinate_descent.py:476: ConvergenceWarning: Objective did not converge. You might want to increase the number of iterations. Duality gap: 10.372635967975064, tolerance: 0.0201166147402188\n",
            "  positive)\n",
            "/usr/local/lib/python3.6/dist-packages/sklearn/linear_model/_coordinate_descent.py:476: ConvergenceWarning: Objective did not converge. You might want to increase the number of iterations. Duality gap: 9.958967795304233, tolerance: 0.0201166147402188\n",
            "  positive)\n",
            "/usr/local/lib/python3.6/dist-packages/sklearn/linear_model/_coordinate_descent.py:476: ConvergenceWarning: Objective did not converge. You might want to increase the number of iterations. Duality gap: 9.572361846872298, tolerance: 0.0201166147402188\n",
            "  positive)\n",
            "/usr/local/lib/python3.6/dist-packages/sklearn/linear_model/_coordinate_descent.py:476: ConvergenceWarning: Objective did not converge. You might want to increase the number of iterations. Duality gap: 9.210657094495453, tolerance: 0.0201166147402188\n",
            "  positive)\n",
            "/usr/local/lib/python3.6/dist-packages/sklearn/linear_model/_coordinate_descent.py:476: ConvergenceWarning: Objective did not converge. You might want to increase the number of iterations. Duality gap: 8.88918878374637, tolerance: 0.0201166147402188\n",
            "  positive)\n",
            "/usr/local/lib/python3.6/dist-packages/sklearn/linear_model/_coordinate_descent.py:476: ConvergenceWarning: Objective did not converge. You might want to increase the number of iterations. Duality gap: 8.604943324713425, tolerance: 0.0201166147402188\n",
            "  positive)\n",
            "/usr/local/lib/python3.6/dist-packages/sklearn/linear_model/_coordinate_descent.py:476: ConvergenceWarning: Objective did not converge. You might want to increase the number of iterations. Duality gap: 8.12163041461723, tolerance: 0.0201166147402188\n",
            "  positive)\n",
            "/usr/local/lib/python3.6/dist-packages/sklearn/linear_model/_coordinate_descent.py:476: ConvergenceWarning: Objective did not converge. You might want to increase the number of iterations. Duality gap: 7.6413890595855065, tolerance: 0.0201166147402188\n",
            "  positive)\n",
            "/usr/local/lib/python3.6/dist-packages/sklearn/linear_model/_coordinate_descent.py:476: ConvergenceWarning: Objective did not converge. You might want to increase the number of iterations. Duality gap: 7.188797551832337, tolerance: 0.0201166147402188\n",
            "  positive)\n",
            "/usr/local/lib/python3.6/dist-packages/sklearn/linear_model/_coordinate_descent.py:476: ConvergenceWarning: Objective did not converge. You might want to increase the number of iterations. Duality gap: 6.763600338212399, tolerance: 0.0201166147402188\n",
            "  positive)\n",
            "/usr/local/lib/python3.6/dist-packages/sklearn/linear_model/_coordinate_descent.py:476: ConvergenceWarning: Objective did not converge. You might want to increase the number of iterations. Duality gap: 6.365051109082856, tolerance: 0.0201166147402188\n",
            "  positive)\n",
            "/usr/local/lib/python3.6/dist-packages/sklearn/linear_model/_coordinate_descent.py:476: ConvergenceWarning: Objective did not converge. You might want to increase the number of iterations. Duality gap: 5.966471130467383, tolerance: 0.0201166147402188\n",
            "  positive)\n",
            "/usr/local/lib/python3.6/dist-packages/sklearn/linear_model/_coordinate_descent.py:476: ConvergenceWarning: Objective did not converge. You might want to increase the number of iterations. Duality gap: 5.6100253930746575, tolerance: 0.0201166147402188\n",
            "  positive)\n",
            "/usr/local/lib/python3.6/dist-packages/sklearn/linear_model/_coordinate_descent.py:476: ConvergenceWarning: Objective did not converge. You might want to increase the number of iterations. Duality gap: 5.257736196794504, tolerance: 0.0201166147402188\n",
            "  positive)\n",
            "/usr/local/lib/python3.6/dist-packages/sklearn/linear_model/_coordinate_descent.py:476: ConvergenceWarning: Objective did not converge. You might want to increase the number of iterations. Duality gap: 4.930950269157229, tolerance: 0.0201166147402188\n",
            "  positive)\n",
            "/usr/local/lib/python3.6/dist-packages/sklearn/linear_model/_coordinate_descent.py:476: ConvergenceWarning: Objective did not converge. You might want to increase the number of iterations. Duality gap: 4.628640521615104, tolerance: 0.0201166147402188\n",
            "  positive)\n",
            "/usr/local/lib/python3.6/dist-packages/sklearn/linear_model/_coordinate_descent.py:476: ConvergenceWarning: Objective did not converge. You might want to increase the number of iterations. Duality gap: 4.348740345580346, tolerance: 0.0201166147402188\n",
            "  positive)\n",
            "/usr/local/lib/python3.6/dist-packages/sklearn/linear_model/_coordinate_descent.py:476: ConvergenceWarning: Objective did not converge. You might want to increase the number of iterations. Duality gap: 4.08946786277388, tolerance: 0.0201166147402188\n",
            "  positive)\n",
            "/usr/local/lib/python3.6/dist-packages/sklearn/linear_model/_coordinate_descent.py:476: ConvergenceWarning: Objective did not converge. You might want to increase the number of iterations. Duality gap: 3.849254163795699, tolerance: 0.0201166147402188\n",
            "  positive)\n",
            "/usr/local/lib/python3.6/dist-packages/sklearn/linear_model/_coordinate_descent.py:476: ConvergenceWarning: Objective did not converge. You might want to increase the number of iterations. Duality gap: 3.6266729213041273, tolerance: 0.0201166147402188\n",
            "  positive)\n",
            "/usr/local/lib/python3.6/dist-packages/sklearn/linear_model/_coordinate_descent.py:476: ConvergenceWarning: Objective did not converge. You might want to increase the number of iterations. Duality gap: 3.4204053297611807, tolerance: 0.0201166147402188\n",
            "  positive)\n",
            "/usr/local/lib/python3.6/dist-packages/sklearn/linear_model/_coordinate_descent.py:476: ConvergenceWarning: Objective did not converge. You might want to increase the number of iterations. Duality gap: 3.2292223468880294, tolerance: 0.0201166147402188\n",
            "  positive)\n",
            "/usr/local/lib/python3.6/dist-packages/sklearn/linear_model/_coordinate_descent.py:476: ConvergenceWarning: Objective did not converge. You might want to increase the number of iterations. Duality gap: 3.0519751329415854, tolerance: 0.0201166147402188\n",
            "  positive)\n",
            "/usr/local/lib/python3.6/dist-packages/sklearn/linear_model/_coordinate_descent.py:476: ConvergenceWarning: Objective did not converge. You might want to increase the number of iterations. Duality gap: 2.887589475767122, tolerance: 0.0201166147402188\n",
            "  positive)\n",
            "/usr/local/lib/python3.6/dist-packages/sklearn/linear_model/_coordinate_descent.py:476: ConvergenceWarning: Objective did not converge. You might want to increase the number of iterations. Duality gap: 2.7350621166552003, tolerance: 0.0201166147402188\n",
            "  positive)\n",
            "/usr/local/lib/python3.6/dist-packages/sklearn/linear_model/_coordinate_descent.py:476: ConvergenceWarning: Objective did not converge. You might want to increase the number of iterations. Duality gap: 2.593457892656545, tolerance: 0.0201166147402188\n",
            "  positive)\n",
            "/usr/local/lib/python3.6/dist-packages/sklearn/linear_model/_coordinate_descent.py:476: ConvergenceWarning: Objective did not converge. You might want to increase the number of iterations. Duality gap: 2.461907130315012, tolerance: 0.0201166147402188\n",
            "  positive)\n",
            "/usr/local/lib/python3.6/dist-packages/sklearn/linear_model/_coordinate_descent.py:476: ConvergenceWarning: Objective did not converge. You might want to increase the number of iterations. Duality gap: 2.339603013284062, tolerance: 0.0201166147402188\n",
            "  positive)\n",
            "/usr/local/lib/python3.6/dist-packages/sklearn/linear_model/_coordinate_descent.py:476: ConvergenceWarning: Objective did not converge. You might want to increase the number of iterations. Duality gap: 2.225798809120022, tolerance: 0.0201166147402188\n",
            "  positive)\n",
            "/usr/local/lib/python3.6/dist-packages/sklearn/linear_model/_coordinate_descent.py:476: ConvergenceWarning: Objective did not converge. You might want to increase the number of iterations. Duality gap: 2.119804931488247, tolerance: 0.0201166147402188\n",
            "  positive)\n",
            "/usr/local/lib/python3.6/dist-packages/sklearn/linear_model/_coordinate_descent.py:476: ConvergenceWarning: Objective did not converge. You might want to increase the number of iterations. Duality gap: 2.0209858617052348, tolerance: 0.0201166147402188\n",
            "  positive)\n",
            "/usr/local/lib/python3.6/dist-packages/sklearn/linear_model/_coordinate_descent.py:476: ConvergenceWarning: Objective did not converge. You might want to increase the number of iterations. Duality gap: 1.9287569756856868, tolerance: 0.0201166147402188\n",
            "  positive)\n",
            "/usr/local/lib/python3.6/dist-packages/sklearn/linear_model/_coordinate_descent.py:476: ConvergenceWarning: Objective did not converge. You might want to increase the number of iterations. Duality gap: 1.842581329049743, tolerance: 0.0201166147402188\n",
            "  positive)\n",
            "/usr/local/lib/python3.6/dist-packages/sklearn/linear_model/_coordinate_descent.py:476: ConvergenceWarning: Objective did not converge. You might want to increase the number of iterations. Duality gap: 1.7619664514771571, tolerance: 0.0201166147402188\n",
            "  positive)\n",
            "/usr/local/lib/python3.6/dist-packages/sklearn/linear_model/_coordinate_descent.py:476: ConvergenceWarning: Objective did not converge. You might want to increase the number of iterations. Duality gap: 1.6864611952576638, tolerance: 0.0201166147402188\n",
            "  positive)\n",
            "/usr/local/lib/python3.6/dist-packages/sklearn/linear_model/_coordinate_descent.py:476: ConvergenceWarning: Objective did not converge. You might want to increase the number of iterations. Duality gap: 1.6156526749860873, tolerance: 0.0201166147402188\n",
            "  positive)\n",
            "/usr/local/lib/python3.6/dist-packages/sklearn/linear_model/_coordinate_descent.py:476: ConvergenceWarning: Objective did not converge. You might want to increase the number of iterations. Duality gap: 1.5491633270108736, tolerance: 0.0201166147402188\n",
            "  positive)\n",
            "/usr/local/lib/python3.6/dist-packages/sklearn/linear_model/_coordinate_descent.py:476: ConvergenceWarning: Objective did not converge. You might want to increase the number of iterations. Duality gap: 1.4866481093962491, tolerance: 0.0201166147402188\n",
            "  positive)\n",
            "/usr/local/lib/python3.6/dist-packages/sklearn/linear_model/_coordinate_descent.py:476: ConvergenceWarning: Objective did not converge. You might want to increase the number of iterations. Duality gap: 1.427791856169037, tolerance: 0.0201166147402188\n",
            "  positive)\n",
            "/usr/local/lib/python3.6/dist-packages/sklearn/linear_model/_coordinate_descent.py:476: ConvergenceWarning: Objective did not converge. You might want to increase the number of iterations. Duality gap: 1.3723067937314894, tolerance: 0.0201166147402188\n",
            "  positive)\n",
            "/usr/local/lib/python3.6/dist-packages/sklearn/linear_model/_coordinate_descent.py:476: ConvergenceWarning: Objective did not converge. You might want to increase the number of iterations. Duality gap: 1.319930222544734, tolerance: 0.0201166147402188\n",
            "  positive)\n",
            "/usr/local/lib/python3.6/dist-packages/sklearn/linear_model/_coordinate_descent.py:476: ConvergenceWarning: Objective did not converge. You might want to increase the number of iterations. Duality gap: 1.270422363371594, tolerance: 0.0201166147402188\n",
            "  positive)\n",
            "/usr/local/lib/python3.6/dist-packages/sklearn/linear_model/_coordinate_descent.py:476: ConvergenceWarning: Objective did not converge. You might want to increase the number of iterations. Duality gap: 0.6197551519360474, tolerance: 0.0201166147402188\n",
            "  positive)\n",
            "/usr/local/lib/python3.6/dist-packages/sklearn/linear_model/_coordinate_descent.py:476: ConvergenceWarning: Objective did not converge. You might want to increase the number of iterations. Duality gap: 0.9853777965719459, tolerance: 0.0201166147402188\n",
            "  positive)\n",
            "/usr/local/lib/python3.6/dist-packages/sklearn/linear_model/_coordinate_descent.py:476: ConvergenceWarning: Objective did not converge. You might want to increase the number of iterations. Duality gap: 0.9606691997065866, tolerance: 0.0201166147402188\n",
            "  positive)\n",
            "/usr/local/lib/python3.6/dist-packages/sklearn/linear_model/_coordinate_descent.py:476: ConvergenceWarning: Objective did not converge. You might want to increase the number of iterations. Duality gap: 0.8637639647475481, tolerance: 0.0201166147402188\n",
            "  positive)\n",
            "/usr/local/lib/python3.6/dist-packages/sklearn/linear_model/_coordinate_descent.py:476: ConvergenceWarning: Objective did not converge. You might want to increase the number of iterations. Duality gap: 0.7643732563073513, tolerance: 0.0201166147402188\n",
            "  positive)\n",
            "/usr/local/lib/python3.6/dist-packages/sklearn/linear_model/_coordinate_descent.py:476: ConvergenceWarning: Objective did not converge. You might want to increase the number of iterations. Duality gap: 0.6750218786425819, tolerance: 0.0201166147402188\n",
            "  positive)\n",
            "/usr/local/lib/python3.6/dist-packages/sklearn/linear_model/_coordinate_descent.py:476: ConvergenceWarning: Objective did not converge. You might want to increase the number of iterations. Duality gap: 0.596623900867101, tolerance: 0.0201166147402188\n",
            "  positive)\n",
            "/usr/local/lib/python3.6/dist-packages/sklearn/linear_model/_coordinate_descent.py:476: ConvergenceWarning: Objective did not converge. You might want to increase the number of iterations. Duality gap: 0.5280353152739039, tolerance: 0.0201166147402188\n",
            "  positive)\n",
            "/usr/local/lib/python3.6/dist-packages/sklearn/linear_model/_coordinate_descent.py:476: ConvergenceWarning: Objective did not converge. You might want to increase the number of iterations. Duality gap: 0.4679453417186181, tolerance: 0.0201166147402188\n",
            "  positive)\n",
            "/usr/local/lib/python3.6/dist-packages/sklearn/linear_model/_coordinate_descent.py:476: ConvergenceWarning: Objective did not converge. You might want to increase the number of iterations. Duality gap: 0.4151995681363587, tolerance: 0.0201166147402188\n",
            "  positive)\n",
            "/usr/local/lib/python3.6/dist-packages/sklearn/linear_model/_coordinate_descent.py:476: ConvergenceWarning: Objective did not converge. You might want to increase the number of iterations. Duality gap: 0.367027619750246, tolerance: 0.0201166147402188\n",
            "  positive)\n",
            "/usr/local/lib/python3.6/dist-packages/sklearn/linear_model/_coordinate_descent.py:476: ConvergenceWarning: Objective did not converge. You might want to increase the number of iterations. Duality gap: 0.32187151963246663, tolerance: 0.0201166147402188\n",
            "  positive)\n",
            "/usr/local/lib/python3.6/dist-packages/sklearn/linear_model/_coordinate_descent.py:476: ConvergenceWarning: Objective did not converge. You might want to increase the number of iterations. Duality gap: 0.28425354140471626, tolerance: 0.0201166147402188\n",
            "  positive)\n",
            "/usr/local/lib/python3.6/dist-packages/sklearn/linear_model/_coordinate_descent.py:476: ConvergenceWarning: Objective did not converge. You might want to increase the number of iterations. Duality gap: 0.25215506868423176, tolerance: 0.0201166147402188\n",
            "  positive)\n",
            "/usr/local/lib/python3.6/dist-packages/sklearn/linear_model/_coordinate_descent.py:476: ConvergenceWarning: Objective did not converge. You might want to increase the number of iterations. Duality gap: 0.22422643692719646, tolerance: 0.0201166147402188\n",
            "  positive)\n",
            "/usr/local/lib/python3.6/dist-packages/sklearn/linear_model/_coordinate_descent.py:476: ConvergenceWarning: Objective did not converge. You might want to increase the number of iterations. Duality gap: 0.1997057123493846, tolerance: 0.0201166147402188\n",
            "  positive)\n",
            "/usr/local/lib/python3.6/dist-packages/sklearn/linear_model/_coordinate_descent.py:476: ConvergenceWarning: Objective did not converge. You might want to increase the number of iterations. Duality gap: 0.17808323127508174, tolerance: 0.0201166147402188\n",
            "  positive)\n",
            "/usr/local/lib/python3.6/dist-packages/sklearn/linear_model/_coordinate_descent.py:476: ConvergenceWarning: Objective did not converge. You might want to increase the number of iterations. Duality gap: 0.15897051108768778, tolerance: 0.0201166147402188\n",
            "  positive)\n",
            "/usr/local/lib/python3.6/dist-packages/sklearn/linear_model/_coordinate_descent.py:476: ConvergenceWarning: Objective did not converge. You might want to increase the number of iterations. Duality gap: 0.14204882673807617, tolerance: 0.0201166147402188\n",
            "  positive)\n",
            "/usr/local/lib/python3.6/dist-packages/sklearn/linear_model/_coordinate_descent.py:476: ConvergenceWarning: Objective did not converge. You might want to increase the number of iterations. Duality gap: 0.12704730416109555, tolerance: 0.0201166147402188\n",
            "  positive)\n",
            "/usr/local/lib/python3.6/dist-packages/sklearn/linear_model/_coordinate_descent.py:476: ConvergenceWarning: Objective did not converge. You might want to increase the number of iterations. Duality gap: 0.11373212841985492, tolerance: 0.0201166147402188\n",
            "  positive)\n",
            "/usr/local/lib/python3.6/dist-packages/sklearn/linear_model/_coordinate_descent.py:476: ConvergenceWarning: Objective did not converge. You might want to increase the number of iterations. Duality gap: 0.10190011760661832, tolerance: 0.0201166147402188\n",
            "  positive)\n",
            "/usr/local/lib/python3.6/dist-packages/sklearn/linear_model/_coordinate_descent.py:476: ConvergenceWarning: Objective did not converge. You might want to increase the number of iterations. Duality gap: 0.09137417927884428, tolerance: 0.0201166147402188\n",
            "  positive)\n",
            "/usr/local/lib/python3.6/dist-packages/sklearn/linear_model/_coordinate_descent.py:476: ConvergenceWarning: Objective did not converge. You might want to increase the number of iterations. Duality gap: 0.0819997208744212, tolerance: 0.0201166147402188\n",
            "  positive)\n",
            "/usr/local/lib/python3.6/dist-packages/sklearn/linear_model/_coordinate_descent.py:476: ConvergenceWarning: Objective did not converge. You might want to increase the number of iterations. Duality gap: 0.07364165015705737, tolerance: 0.0201166147402188\n",
            "  positive)\n",
            "/usr/local/lib/python3.6/dist-packages/sklearn/linear_model/_coordinate_descent.py:476: ConvergenceWarning: Objective did not converge. You might want to increase the number of iterations. Duality gap: 0.06618180717012478, tolerance: 0.0201166147402188\n",
            "  positive)\n",
            "/usr/local/lib/python3.6/dist-packages/sklearn/linear_model/_coordinate_descent.py:476: ConvergenceWarning: Objective did not converge. You might want to increase the number of iterations. Duality gap: 0.059516745096971135, tolerance: 0.0201166147402188\n",
            "  positive)\n",
            "/usr/local/lib/python3.6/dist-packages/sklearn/linear_model/_coordinate_descent.py:476: ConvergenceWarning: Objective did not converge. You might want to increase the number of iterations. Duality gap: 0.05355580688659245, tolerance: 0.0201166147402188\n",
            "  positive)\n",
            "/usr/local/lib/python3.6/dist-packages/sklearn/linear_model/_coordinate_descent.py:476: ConvergenceWarning: Objective did not converge. You might want to increase the number of iterations. Duality gap: 0.048219457329096826, tolerance: 0.0201166147402188\n",
            "  positive)\n",
            "/usr/local/lib/python3.6/dist-packages/sklearn/linear_model/_coordinate_descent.py:476: ConvergenceWarning: Objective did not converge. You might want to increase the number of iterations. Duality gap: 0.04343783708208093, tolerance: 0.0201166147402188\n",
            "  positive)\n",
            "/usr/local/lib/python3.6/dist-packages/sklearn/linear_model/_coordinate_descent.py:476: ConvergenceWarning: Objective did not converge. You might want to increase the number of iterations. Duality gap: 0.039149509709417885, tolerance: 0.0201166147402188\n",
            "  positive)\n",
            "/usr/local/lib/python3.6/dist-packages/sklearn/linear_model/_coordinate_descent.py:476: ConvergenceWarning: Objective did not converge. You might want to increase the number of iterations. Duality gap: 0.03530037639863792, tolerance: 0.0201166147402188\n",
            "  positive)\n",
            "/usr/local/lib/python3.6/dist-packages/sklearn/linear_model/_coordinate_descent.py:476: ConvergenceWarning: Objective did not converge. You might want to increase the number of iterations. Duality gap: 0.031842736130968774, tolerance: 0.0201166147402188\n",
            "  positive)\n",
            "/usr/local/lib/python3.6/dist-packages/sklearn/linear_model/_coordinate_descent.py:476: ConvergenceWarning: Objective did not converge. You might want to increase the number of iterations. Duality gap: 0.028734471829380936, tolerance: 0.0201166147402188\n",
            "  positive)\n",
            "/usr/local/lib/python3.6/dist-packages/sklearn/linear_model/_coordinate_descent.py:476: ConvergenceWarning: Objective did not converge. You might want to increase the number of iterations. Duality gap: 0.025938345476916425, tolerance: 0.0201166147402188\n",
            "  positive)\n",
            "/usr/local/lib/python3.6/dist-packages/sklearn/linear_model/_coordinate_descent.py:476: ConvergenceWarning: Objective did not converge. You might want to increase the number of iterations. Duality gap: 0.02342138738887911, tolerance: 0.0201166147402188\n",
            "  positive)\n",
            "/usr/local/lib/python3.6/dist-packages/sklearn/linear_model/_coordinate_descent.py:476: ConvergenceWarning: Objective did not converge. You might want to increase the number of iterations. Duality gap: 0.021154366772975663, tolerance: 0.0201166147402188\n",
            "  positive)\n"
          ],
          "name": "stderr"
        },
        {
          "output_type": "display_data",
          "data": {
            "image/png": "[encoded data removed]",
            "text/plain": [
              "<Figure size 432x288 with 1 Axes>"
            ]
          },
          "metadata": {
            "tags": []
          }
        }
      ]
    },
    {
      "cell_type": "markdown",
      "metadata": {
        "id": "R6abaZ84JDCz",
        "colab_type": "text"
      },
      "source": [
        "**OBSERVATIONS:-**\n",
        "\n",
        "The best value for lasso was obtained at 0.01. Hence, that was used for this experiment. The loss initially drops as the gradient descent happens. After a point the model starts overfitting on the data so the test error swings up again. Due to regularization the curve starts decreasing once again and converges to a final value.\n",
        "\n",
        "NOTE :- We get the warnings because the model did not converge in the m_iterations allowed, which was meant to happen. Can use the ignore warning option to remove it.\n",
        "\n",
        "import warnings\n",
        "\n",
        "warnings.filterwarnings('ignore')"
      ]
    },
    {
      "cell_type": "code",
      "metadata": {
        "id": "OUN_9GAqxfzX",
        "colab_type": "code",
        "colab": {}
      },
      "source": [
        ""
      ],
      "execution_count": null,
      "outputs": []
    }
  ]
}